{
 "cells": [
  {
   "cell_type": "code",
   "execution_count": 151,
   "id": "dc6f5d48",
   "metadata": {},
   "outputs": [],
   "source": [
    "#基础数据\n",
    "import tabulate as tb\n",
    "\n",
    "A = 20 #释放普攻获得20点能量\n",
    "E = 30 #释放战技获得30点能量\n",
    "utimate_reset = 5 #释放终结技后回复5点能量\n",
    "charging_relic = 0.194 #充能绳-能量回复效率增加19.4%\n",
    "onwak = 0.05 #翁瓦克-能量回复效率增加5%\n",
    "\n",
    "relic_description = [\"模式\",\"默认\",\"翁瓦克\",\"充能绳\",\"翁瓦克+充能绳\"]\n",
    "relic_mode = [0,onwak,charging_relic,onwak+charging_relic]\n"
   ]
  },
  {
   "cell_type": "code",
   "execution_count": 152,
   "id": "c24d9b1f",
   "metadata": {},
   "outputs": [],
   "source": [
    "#角色模块\n",
    "\n",
    "class Pela:\n",
    "    charging_requirement = 110 #释放终结技所需能量\n",
    "    additional_charging = 8  #行迹7级，对拥有Debuff目标释放普攻或战技额外回复8点能量，吃回能项链效果。\n",
    "    \n",
    "class Silver_wolf:\n",
    "    charging_requirement = 110 #释放终结技所需能量\n",
    "    additional_charging = 0"
   ]
  },
  {
   "cell_type": "code",
   "execution_count": 153,
   "id": "8550ad47",
   "metadata": {},
   "outputs": [],
   "source": [
    "#光锥模块\n",
    "\n",
    "class General_weapon:  #默认光锥\n",
    "    additional_charging = 0\n",
    "\n",
    "class New_player_mission: #新手任务开始前光锥：攻击减防敌人获得8点能量，吃回能项链效果。\n",
    "    additional_charging = 8"
   ]
  },
  {
   "cell_type": "code",
   "execution_count": 154,
   "id": "58d8bd86",
   "metadata": {},
   "outputs": [],
   "source": [
    "#攻击模式模块，暂时弃用\n",
    "class Attack_mode:\n",
    "    \n",
    "    def __init__(self,mode):\n",
    "        self.mode = mode\n",
    "        \n",
    "    def action_point(self,mode):\n",
    "        action_point = mode.len()\n",
    "    "
   ]
  },
  {
   "cell_type": "code",
   "execution_count": 195,
   "id": "0f0bdf69",
   "metadata": {},
   "outputs": [],
   "source": [
    "def calculate_charging_cycle(character,weapon=General_weapon):\n",
    "    \n",
    "    table = []\n",
    "    total_additional_charging = character.additional_charging + weapon.additional_charging #计算攻击额外回能\n",
    "\n",
    "        \n",
    "    #二动一大\n",
    "    #AA\n",
    "    AA_list = [\"AA\"]\n",
    "    action_point = 2\n",
    "    for n in relic_mode:\n",
    "        charging_level = (A+A+total_additional_charging*(action_point+1))*(1+n)+utimate_reset\n",
    "        AA_list.append(charging_level)\n",
    "    table.append(AA_list)\n",
    "    \n",
    "    #AE\n",
    "    AE_list = [\"AE\"]\n",
    "    action_point = 2\n",
    "    for n in relic_mode:\n",
    "        charging_level = (A+E+total_additional_charging*(action_point+1))*(1+n)+utimate_reset\n",
    "        AE_list.append(charging_level)\n",
    "    table.append(AE_list)\n",
    "    \n",
    "    #EE\n",
    "    EE_list = [\"EE\"]\n",
    "    action_point = 2\n",
    "    for n in relic_mode:\n",
    "        charging_level = (E+E+total_additional_charging*(action_point+1))*(1+n)+utimate_reset\n",
    "        EE_list.append(charging_level)\n",
    "    table.append(EE_list)\n",
    "    \n",
    "    #三动一大\n",
    "    #AAA\n",
    "    AAA_list = [\"AAA\"]\n",
    "    action_point = 3\n",
    "    for n in relic_mode:\n",
    "        charging_level = (A+A+A+total_additional_charging*(action_point+1))*(1+n)+utimate_reset\n",
    "        AAA_list.append(charging_level)\n",
    "    table.append(AAA_list)\n",
    "    \n",
    "    #AAE\n",
    "    AAE_list = [\"AAE\"]\n",
    "    action_point = 3\n",
    "    for n in relic_mode:\n",
    "        charging_level = (A+A+E+total_additional_charging*(action_point+1))*(1+n)+utimate_reset\n",
    "        AAE_list.append(charging_level)\n",
    "    table.append(AAE_list)       \n",
    "        \n",
    "    #AEE\n",
    "    AEE_list = [\"AEE\"]\n",
    "    action_point = 3\n",
    "    for n in relic_mode:\n",
    "        charging_level = (A+E+E+total_additional_charging*(action_point+1))*(1+n)+utimate_reset\n",
    "        AEE_list.append(charging_level)\n",
    "    table.append(AEE_list)       \n",
    "    \n",
    "    #EEE\n",
    "    EEE_list = [\"EEE\"]\n",
    "    action_point = 3\n",
    "    for n in relic_mode:\n",
    "        charging_level = (E+E+E+total_additional_charging*(action_point+1))*(1+n)+utimate_reset\n",
    "        EEE_list.append(charging_level)\n",
    "    table.append(EEE_list)     \n",
    "    \n",
    "    #开局放大\n",
    "    start_list = [\"开局打战技后能量\"]\n",
    "    able_list = [\"是否支持开局放大\"]\n",
    "    for n in relic_mode:\n",
    "        start_level = character.charging_requirement/2 #开局充能\n",
    "        start_charging = start_level+(E+total_additional_charging)*(1+n) #开局放E后充能\n",
    "        start_list.append(start_charging)\n",
    "        if start_charging > character.charging_requirement:\n",
    "            able = \"Yes\"\n",
    "            able_list.append(able)\n",
    "        else:\n",
    "            able = \"No\"\n",
    "            able_list.append(able)  \n",
    "    table.append(start_list)\n",
    "    table.append(able_list)\n",
    "    \n",
    "    #制表\n",
    "    print(tb.tabulate(table, headers=relic_description,tablefmt='grid'))\n",
    "    \n",
    "\n",
    "    \n",
    "    "
   ]
  },
  {
   "cell_type": "code",
   "execution_count": 196,
   "id": "9745b191",
   "metadata": {},
   "outputs": [
    {
     "name": "stdout",
     "output_type": "stream",
     "text": [
      "+------------------+--------+--------------------+--------------------+--------------------+\n",
      "| 模式             | 默认   | 翁瓦克             | 充能绳             | 翁瓦克+充能绳      |\n",
      "+==================+========+====================+====================+====================+\n",
      "| AA               | 69     | 72.2               | 81.416             | 84.616             |\n",
      "+------------------+--------+--------------------+--------------------+--------------------+\n",
      "| AE               | 79     | 82.7               | 93.356             | 97.056             |\n",
      "+------------------+--------+--------------------+--------------------+--------------------+\n",
      "| EE               | 89     | 93.2               | 105.29599999999999 | 109.496            |\n",
      "+------------------+--------+--------------------+--------------------+--------------------+\n",
      "| AAA              | 97     | 101.60000000000001 | 114.848            | 119.448            |\n",
      "+------------------+--------+--------------------+--------------------+--------------------+\n",
      "| AAE              | 107    | 112.10000000000001 | 126.788            | 131.888            |\n",
      "+------------------+--------+--------------------+--------------------+--------------------+\n",
      "| AEE              | 117    | 122.60000000000001 | 138.728            | 144.328            |\n",
      "+------------------+--------+--------------------+--------------------+--------------------+\n",
      "| EEE              | 127    | 133.1              | 150.668            | 156.768            |\n",
      "+------------------+--------+--------------------+--------------------+--------------------+\n",
      "| 开局打战技后能量 | 93.0   | 94.9               | 100.372            | 102.27199999999999 |\n",
      "+------------------+--------+--------------------+--------------------+--------------------+\n",
      "| 是否支持开局放大 | No     | No                 | No                 | No                 |\n",
      "+------------------+--------+--------------------+--------------------+--------------------+\n"
     ]
    }
   ],
   "source": [
    "calculate_charging_cycle(Silver_wolf,New_player_mission) #银狼携带光锥：新手任务开始前"
   ]
  },
  {
   "cell_type": "code",
   "execution_count": 197,
   "id": "27f8529f",
   "metadata": {},
   "outputs": [
    {
     "name": "stdout",
     "output_type": "stream",
     "text": [
      "+------------------+--------+--------------------+--------------------+--------------------+\n",
      "| 模式             | 默认   | 翁瓦克             | 充能绳             | 翁瓦克+充能绳      |\n",
      "+==================+========+====================+====================+====================+\n",
      "| AA               | 69     | 72.2               | 81.416             | 84.616             |\n",
      "+------------------+--------+--------------------+--------------------+--------------------+\n",
      "| AE               | 79     | 82.7               | 93.356             | 97.056             |\n",
      "+------------------+--------+--------------------+--------------------+--------------------+\n",
      "| EE               | 89     | 93.2               | 105.29599999999999 | 109.496            |\n",
      "+------------------+--------+--------------------+--------------------+--------------------+\n",
      "| AAA              | 97     | 101.60000000000001 | 114.848            | 119.448            |\n",
      "+------------------+--------+--------------------+--------------------+--------------------+\n",
      "| AAE              | 107    | 112.10000000000001 | 126.788            | 131.888            |\n",
      "+------------------+--------+--------------------+--------------------+--------------------+\n",
      "| AEE              | 117    | 122.60000000000001 | 138.728            | 144.328            |\n",
      "+------------------+--------+--------------------+--------------------+--------------------+\n",
      "| EEE              | 127    | 133.1              | 150.668            | 156.768            |\n",
      "+------------------+--------+--------------------+--------------------+--------------------+\n",
      "| 开局打战技后能量 | 93.0   | 94.9               | 100.372            | 102.27199999999999 |\n",
      "+------------------+--------+--------------------+--------------------+--------------------+\n",
      "| 是否支持开局放大 | No     | No                 | No                 | No                 |\n",
      "+------------------+--------+--------------------+--------------------+--------------------+\n"
     ]
    }
   ],
   "source": [
    "calculate_charging_cycle(Pela) #佩拉，行迹7级"
   ]
  },
  {
   "cell_type": "code",
   "execution_count": 198,
   "id": "b128bb08",
   "metadata": {},
   "outputs": [
    {
     "name": "stdout",
     "output_type": "stream",
     "text": [
      "+------------------+--------+--------------------+--------------------+--------------------+\n",
      "| 模式             | 默认   | 翁瓦克             | 充能绳             | 翁瓦克+充能绳      |\n",
      "+==================+========+====================+====================+====================+\n",
      "| AA               | 93     | 97.4               | 110.072            | 114.472            |\n",
      "+------------------+--------+--------------------+--------------------+--------------------+\n",
      "| AE               | 103    | 107.9              | 122.012            | 126.912            |\n",
      "+------------------+--------+--------------------+--------------------+--------------------+\n",
      "| EE               | 113    | 118.4              | 133.952            | 139.352            |\n",
      "+------------------+--------+--------------------+--------------------+--------------------+\n",
      "| AAA              | 129    | 135.20000000000002 | 153.05599999999998 | 159.256            |\n",
      "+------------------+--------+--------------------+--------------------+--------------------+\n",
      "| AAE              | 139    | 145.70000000000002 | 164.99599999999998 | 171.696            |\n",
      "+------------------+--------+--------------------+--------------------+--------------------+\n",
      "| AEE              | 149    | 156.20000000000002 | 176.93599999999998 | 184.136            |\n",
      "+------------------+--------+--------------------+--------------------+--------------------+\n",
      "| EEE              | 159    | 166.70000000000002 | 188.876            | 196.576            |\n",
      "+------------------+--------+--------------------+--------------------+--------------------+\n",
      "| 开局打战技后能量 | 101.0  | 103.30000000000001 | 109.924            | 112.22399999999999 |\n",
      "+------------------+--------+--------------------+--------------------+--------------------+\n",
      "| 是否支持开局放大 | No     | No                 | No                 | Yes                |\n",
      "+------------------+--------+--------------------+--------------------+--------------------+\n"
     ]
    }
   ],
   "source": [
    "calculate_charging_cycle(Pela,New_player_mission) #佩拉，行迹7级，携带光锥：新手任务开始前"
   ]
  },
  {
   "cell_type": "code",
   "execution_count": null,
   "id": "652dbf52",
   "metadata": {},
   "outputs": [],
   "source": []
  },
  {
   "cell_type": "code",
   "execution_count": null,
   "id": "2121c881",
   "metadata": {},
   "outputs": [],
   "source": []
  }
 ],
 "metadata": {
  "kernelspec": {
   "display_name": "Python 3 (ipykernel)",
   "language": "python",
   "name": "python3"
  },
  "language_info": {
   "codemirror_mode": {
    "name": "ipython",
    "version": 3
   },
   "file_extension": ".py",
   "mimetype": "text/x-python",
   "name": "python",
   "nbconvert_exporter": "python",
   "pygments_lexer": "ipython3",
   "version": "3.10.9"
  }
 },
 "nbformat": 4,
 "nbformat_minor": 5
}
